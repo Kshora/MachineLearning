{
 "cells": [
  {
   "cell_type": "code",
   "execution_count": 2,
   "metadata": {},
   "outputs": [],
   "source": [
    "\"\"\"ライブラリ読み込み\"\"\"\n",
    "import torch\n",
    "import torch.nn as nn\n",
    "import torch.optim as optim\n",
    "import torch.nn.functional as F\n",
    "import numpy as np"
   ]
  },
  {
   "cell_type": "code",
   "execution_count": 3,
   "metadata": {},
   "outputs": [],
   "source": [
    "\"\"\"GPU設定\"\"\"\n",
    "# GPUが利用できる場合はGPUを利用し，利用不可の場合はCPUを利用\n",
    "device = torch.device(\"cuda:0\" if torch.cuda.is_available() else \"cpu\")"
   ]
  },
  {
   "cell_type": "code",
   "execution_count": 4,
   "metadata": {},
   "outputs": [],
   "source": [
    "from sklearn import datasets\n",
    "from sklearn.model_selection import train_test_split"
   ]
  },
  {
   "cell_type": "code",
   "execution_count": 5,
   "metadata": {},
   "outputs": [],
   "source": [
    "# データロード\n",
    "iris = datasets.load_iris()\n",
    "\n",
    "# 説明変数 \"Sepal Length\", \"Sepal Width\", \"Petal Length\", \"Petal Width\"\n",
    "x = iris.data.astype(np.float32)\n",
    "# 目的変数 \"Specoes\"\n",
    "y = iris.target.astype(np.int64)"
   ]
  },
  {
   "cell_type": "code",
   "execution_count": 6,
   "metadata": {},
   "outputs": [
    {
     "name": "stdout",
     "output_type": "stream",
     "text": [
      "x = [[5.1 3.5 1.4 0.2]\n",
      " [4.9 3.  1.4 0.2]\n",
      " [4.7 3.2 1.3 0.2]\n",
      " [4.6 3.1 1.5 0.2]\n",
      " [5.  3.6 1.4 0.2]\n",
      " [5.4 3.9 1.7 0.4]\n",
      " [4.6 3.4 1.4 0.3]\n",
      " [5.  3.4 1.5 0.2]\n",
      " [4.4 2.9 1.4 0.2]\n",
      " [4.9 3.1 1.5 0.1]\n",
      " [5.4 3.7 1.5 0.2]\n",
      " [4.8 3.4 1.6 0.2]\n",
      " [4.8 3.  1.4 0.1]\n",
      " [4.3 3.  1.1 0.1]\n",
      " [5.8 4.  1.2 0.2]\n",
      " [5.7 4.4 1.5 0.4]\n",
      " [5.4 3.9 1.3 0.4]\n",
      " [5.1 3.5 1.4 0.3]\n",
      " [5.7 3.8 1.7 0.3]\n",
      " [5.1 3.8 1.5 0.3]\n",
      " [5.4 3.4 1.7 0.2]\n",
      " [5.1 3.7 1.5 0.4]\n",
      " [4.6 3.6 1.  0.2]\n",
      " [5.1 3.3 1.7 0.5]\n",
      " [4.8 3.4 1.9 0.2]\n",
      " [5.  3.  1.6 0.2]\n",
      " [5.  3.4 1.6 0.4]\n",
      " [5.2 3.5 1.5 0.2]\n",
      " [5.2 3.4 1.4 0.2]\n",
      " [4.7 3.2 1.6 0.2]\n",
      " [4.8 3.1 1.6 0.2]\n",
      " [5.4 3.4 1.5 0.4]\n",
      " [5.2 4.1 1.5 0.1]\n",
      " [5.5 4.2 1.4 0.2]\n",
      " [4.9 3.1 1.5 0.2]\n",
      " [5.  3.2 1.2 0.2]\n",
      " [5.5 3.5 1.3 0.2]\n",
      " [4.9 3.6 1.4 0.1]\n",
      " [4.4 3.  1.3 0.2]\n",
      " [5.1 3.4 1.5 0.2]\n",
      " [5.  3.5 1.3 0.3]\n",
      " [4.5 2.3 1.3 0.3]\n",
      " [4.4 3.2 1.3 0.2]\n",
      " [5.  3.5 1.6 0.6]\n",
      " [5.1 3.8 1.9 0.4]\n",
      " [4.8 3.  1.4 0.3]\n",
      " [5.1 3.8 1.6 0.2]\n",
      " [4.6 3.2 1.4 0.2]\n",
      " [5.3 3.7 1.5 0.2]\n",
      " [5.  3.3 1.4 0.2]\n",
      " [7.  3.2 4.7 1.4]\n",
      " [6.4 3.2 4.5 1.5]\n",
      " [6.9 3.1 4.9 1.5]\n",
      " [5.5 2.3 4.  1.3]\n",
      " [6.5 2.8 4.6 1.5]\n",
      " [5.7 2.8 4.5 1.3]\n",
      " [6.3 3.3 4.7 1.6]\n",
      " [4.9 2.4 3.3 1. ]\n",
      " [6.6 2.9 4.6 1.3]\n",
      " [5.2 2.7 3.9 1.4]\n",
      " [5.  2.  3.5 1. ]\n",
      " [5.9 3.  4.2 1.5]\n",
      " [6.  2.2 4.  1. ]\n",
      " [6.1 2.9 4.7 1.4]\n",
      " [5.6 2.9 3.6 1.3]\n",
      " [6.7 3.1 4.4 1.4]\n",
      " [5.6 3.  4.5 1.5]\n",
      " [5.8 2.7 4.1 1. ]\n",
      " [6.2 2.2 4.5 1.5]\n",
      " [5.6 2.5 3.9 1.1]\n",
      " [5.9 3.2 4.8 1.8]\n",
      " [6.1 2.8 4.  1.3]\n",
      " [6.3 2.5 4.9 1.5]\n",
      " [6.1 2.8 4.7 1.2]\n",
      " [6.4 2.9 4.3 1.3]\n",
      " [6.6 3.  4.4 1.4]\n",
      " [6.8 2.8 4.8 1.4]\n",
      " [6.7 3.  5.  1.7]\n",
      " [6.  2.9 4.5 1.5]\n",
      " [5.7 2.6 3.5 1. ]\n",
      " [5.5 2.4 3.8 1.1]\n",
      " [5.5 2.4 3.7 1. ]\n",
      " [5.8 2.7 3.9 1.2]\n",
      " [6.  2.7 5.1 1.6]\n",
      " [5.4 3.  4.5 1.5]\n",
      " [6.  3.4 4.5 1.6]\n",
      " [6.7 3.1 4.7 1.5]\n",
      " [6.3 2.3 4.4 1.3]\n",
      " [5.6 3.  4.1 1.3]\n",
      " [5.5 2.5 4.  1.3]\n",
      " [5.5 2.6 4.4 1.2]\n",
      " [6.1 3.  4.6 1.4]\n",
      " [5.8 2.6 4.  1.2]\n",
      " [5.  2.3 3.3 1. ]\n",
      " [5.6 2.7 4.2 1.3]\n",
      " [5.7 3.  4.2 1.2]\n",
      " [5.7 2.9 4.2 1.3]\n",
      " [6.2 2.9 4.3 1.3]\n",
      " [5.1 2.5 3.  1.1]\n",
      " [5.7 2.8 4.1 1.3]\n",
      " [6.3 3.3 6.  2.5]\n",
      " [5.8 2.7 5.1 1.9]\n",
      " [7.1 3.  5.9 2.1]\n",
      " [6.3 2.9 5.6 1.8]\n",
      " [6.5 3.  5.8 2.2]\n",
      " [7.6 3.  6.6 2.1]\n",
      " [4.9 2.5 4.5 1.7]\n",
      " [7.3 2.9 6.3 1.8]\n",
      " [6.7 2.5 5.8 1.8]\n",
      " [7.2 3.6 6.1 2.5]\n",
      " [6.5 3.2 5.1 2. ]\n",
      " [6.4 2.7 5.3 1.9]\n",
      " [6.8 3.  5.5 2.1]\n",
      " [5.7 2.5 5.  2. ]\n",
      " [5.8 2.8 5.1 2.4]\n",
      " [6.4 3.2 5.3 2.3]\n",
      " [6.5 3.  5.5 1.8]\n",
      " [7.7 3.8 6.7 2.2]\n",
      " [7.7 2.6 6.9 2.3]\n",
      " [6.  2.2 5.  1.5]\n",
      " [6.9 3.2 5.7 2.3]\n",
      " [5.6 2.8 4.9 2. ]\n",
      " [7.7 2.8 6.7 2. ]\n",
      " [6.3 2.7 4.9 1.8]\n",
      " [6.7 3.3 5.7 2.1]\n",
      " [7.2 3.2 6.  1.8]\n",
      " [6.2 2.8 4.8 1.8]\n",
      " [6.1 3.  4.9 1.8]\n",
      " [6.4 2.8 5.6 2.1]\n",
      " [7.2 3.  5.8 1.6]\n",
      " [7.4 2.8 6.1 1.9]\n",
      " [7.9 3.8 6.4 2. ]\n",
      " [6.4 2.8 5.6 2.2]\n",
      " [6.3 2.8 5.1 1.5]\n",
      " [6.1 2.6 5.6 1.4]\n",
      " [7.7 3.  6.1 2.3]\n",
      " [6.3 3.4 5.6 2.4]\n",
      " [6.4 3.1 5.5 1.8]\n",
      " [6.  3.  4.8 1.8]\n",
      " [6.9 3.1 5.4 2.1]\n",
      " [6.7 3.1 5.6 2.4]\n",
      " [6.9 3.1 5.1 2.3]\n",
      " [5.8 2.7 5.1 1.9]\n",
      " [6.8 3.2 5.9 2.3]\n",
      " [6.7 3.3 5.7 2.5]\n",
      " [6.7 3.  5.2 2.3]\n",
      " [6.3 2.5 5.  1.9]\n",
      " [6.5 3.  5.2 2. ]\n",
      " [6.2 3.4 5.4 2.3]\n",
      " [5.9 3.  5.1 1.8]]\n",
      "y = [0 0 0 0 0 0 0 0 0 0 0 0 0 0 0 0 0 0 0 0 0 0 0 0 0 0 0 0 0 0 0 0 0 0 0 0 0\n",
      " 0 0 0 0 0 0 0 0 0 0 0 0 0 1 1 1 1 1 1 1 1 1 1 1 1 1 1 1 1 1 1 1 1 1 1 1 1\n",
      " 1 1 1 1 1 1 1 1 1 1 1 1 1 1 1 1 1 1 1 1 1 1 1 1 1 1 2 2 2 2 2 2 2 2 2 2 2\n",
      " 2 2 2 2 2 2 2 2 2 2 2 2 2 2 2 2 2 2 2 2 2 2 2 2 2 2 2 2 2 2 2 2 2 2 2 2 2\n",
      " 2 2]\n"
     ]
    }
   ],
   "source": [
    "print(f'x = {x}')\n",
    "print(f'y = {y}')"
   ]
  },
  {
   "cell_type": "code",
   "execution_count": 7,
   "metadata": {},
   "outputs": [],
   "source": [
    "# 学習データ & テストデータ分割\n",
    "x_train, x_test, y_train, y_test = train_test_split(x,y,test_size=0.3, random_state=3)\n",
    "\n",
    "# テンソル化\n",
    "x_train, x_test, y_train, y_test = torch.from_numpy(x_train).to(device), torch.from_numpy(x_test).to(device), torch.from_numpy(y_train).to(device), torch.from_numpy(y_test).to(device)"
   ]
  },
  {
   "cell_type": "code",
   "execution_count": 8,
   "metadata": {},
   "outputs": [
    {
     "data": {
      "text/plain": [
       "tensor([[6.4000, 3.2000, 4.5000, 1.5000],\n",
       "        [5.1000, 3.3000, 1.7000, 0.5000],\n",
       "        [6.0000, 2.7000, 5.1000, 1.6000],\n",
       "        [5.8000, 2.7000, 5.1000, 1.9000],\n",
       "        [5.4000, 3.0000, 4.5000, 1.5000],\n",
       "        [4.8000, 3.0000, 1.4000, 0.3000],\n",
       "        [5.0000, 3.2000, 1.2000, 0.2000],\n",
       "        [5.8000, 2.7000, 5.1000, 1.9000],\n",
       "        [7.0000, 3.2000, 4.7000, 1.4000],\n",
       "        [6.1000, 2.8000, 4.7000, 1.2000],\n",
       "        [4.9000, 3.1000, 1.5000, 0.2000],\n",
       "        [6.3000, 3.4000, 5.6000, 2.4000],\n",
       "        [5.1000, 3.8000, 1.5000, 0.3000],\n",
       "        [6.5000, 3.0000, 5.5000, 1.8000],\n",
       "        [5.7000, 2.9000, 4.2000, 1.3000],\n",
       "        [5.0000, 3.6000, 1.4000, 0.2000],\n",
       "        [4.8000, 3.0000, 1.4000, 0.1000],\n",
       "        [6.8000, 3.2000, 5.9000, 2.3000],\n",
       "        [5.9000, 3.2000, 4.8000, 1.8000],\n",
       "        [5.4000, 3.7000, 1.5000, 0.2000],\n",
       "        [4.8000, 3.4000, 1.6000, 0.2000],\n",
       "        [5.1000, 2.5000, 3.0000, 1.1000],\n",
       "        [6.4000, 3.1000, 5.5000, 1.8000],\n",
       "        [6.3000, 3.3000, 6.0000, 2.5000],\n",
       "        [4.9000, 3.1000, 1.5000, 0.1000],\n",
       "        [6.7000, 3.3000, 5.7000, 2.1000],\n",
       "        [5.7000, 3.0000, 4.2000, 1.2000],\n",
       "        [4.7000, 3.2000, 1.6000, 0.2000],\n",
       "        [5.1000, 3.4000, 1.5000, 0.2000],\n",
       "        [7.4000, 2.8000, 6.1000, 1.9000],\n",
       "        [7.7000, 3.8000, 6.7000, 2.2000],\n",
       "        [5.8000, 2.8000, 5.1000, 2.4000],\n",
       "        [5.7000, 2.8000, 4.1000, 1.3000],\n",
       "        [5.2000, 2.7000, 3.9000, 1.4000],\n",
       "        [6.3000, 2.3000, 4.4000, 1.3000],\n",
       "        [5.1000, 3.8000, 1.9000, 0.4000],\n",
       "        [5.5000, 3.5000, 1.3000, 0.2000],\n",
       "        [6.4000, 3.2000, 5.3000, 2.3000],\n",
       "        [6.7000, 3.3000, 5.7000, 2.5000],\n",
       "        [6.9000, 3.1000, 4.9000, 1.5000],\n",
       "        [7.1000, 3.0000, 5.9000, 2.1000],\n",
       "        [5.9000, 3.0000, 4.2000, 1.5000],\n",
       "        [7.7000, 2.8000, 6.7000, 2.0000],\n",
       "        [4.8000, 3.1000, 1.6000, 0.2000],\n",
       "        [6.3000, 2.8000, 5.1000, 1.5000],\n",
       "        [4.3000, 3.0000, 1.1000, 0.1000],\n",
       "        [5.7000, 2.8000, 4.5000, 1.3000],\n",
       "        [6.6000, 3.0000, 4.4000, 1.4000],\n",
       "        [6.4000, 2.8000, 5.6000, 2.2000],\n",
       "        [6.2000, 3.4000, 5.4000, 2.3000],\n",
       "        [5.2000, 4.1000, 1.5000, 0.1000],\n",
       "        [5.5000, 2.4000, 3.8000, 1.1000],\n",
       "        [5.4000, 3.9000, 1.3000, 0.4000],\n",
       "        [6.1000, 3.0000, 4.6000, 1.4000],\n",
       "        [6.4000, 2.9000, 4.3000, 1.3000],\n",
       "        [6.0000, 3.4000, 4.5000, 1.6000],\n",
       "        [4.9000, 3.0000, 1.4000, 0.2000],\n",
       "        [7.2000, 3.2000, 6.0000, 1.8000],\n",
       "        [5.1000, 3.8000, 1.6000, 0.2000],\n",
       "        [6.7000, 2.5000, 5.8000, 1.8000],\n",
       "        [6.1000, 2.8000, 4.0000, 1.3000],\n",
       "        [6.7000, 3.0000, 5.2000, 2.3000],\n",
       "        [6.3000, 3.3000, 4.7000, 1.6000],\n",
       "        [5.6000, 2.8000, 4.9000, 2.0000],\n",
       "        [6.1000, 2.9000, 4.7000, 1.4000],\n",
       "        [5.7000, 3.8000, 1.7000, 0.3000],\n",
       "        [7.6000, 3.0000, 6.6000, 2.1000],\n",
       "        [5.6000, 2.9000, 3.6000, 1.3000],\n",
       "        [6.5000, 3.0000, 5.2000, 2.0000],\n",
       "        [6.5000, 2.8000, 4.6000, 1.5000],\n",
       "        [5.2000, 3.4000, 1.4000, 0.2000],\n",
       "        [6.0000, 2.9000, 4.5000, 1.5000],\n",
       "        [6.3000, 2.5000, 5.0000, 1.9000],\n",
       "        [5.0000, 3.3000, 1.4000, 0.2000],\n",
       "        [5.6000, 2.7000, 4.2000, 1.3000],\n",
       "        [5.4000, 3.4000, 1.7000, 0.2000],\n",
       "        [4.9000, 3.6000, 1.4000, 0.1000],\n",
       "        [5.3000, 3.7000, 1.5000, 0.2000],\n",
       "        [5.7000, 2.6000, 3.5000, 1.0000],\n",
       "        [6.3000, 2.7000, 4.9000, 1.8000],\n",
       "        [5.5000, 4.2000, 1.4000, 0.2000],\n",
       "        [5.0000, 3.5000, 1.6000, 0.6000],\n",
       "        [6.9000, 3.2000, 5.7000, 2.3000],\n",
       "        [5.0000, 3.4000, 1.5000, 0.2000],\n",
       "        [6.0000, 2.2000, 4.0000, 1.0000],\n",
       "        [5.9000, 3.0000, 5.1000, 1.8000],\n",
       "        [6.2000, 2.9000, 4.3000, 1.3000],\n",
       "        [6.5000, 3.2000, 5.1000, 2.0000],\n",
       "        [6.5000, 3.0000, 5.8000, 2.2000],\n",
       "        [5.6000, 2.5000, 3.9000, 1.1000],\n",
       "        [5.5000, 2.6000, 4.4000, 1.2000],\n",
       "        [7.2000, 3.0000, 5.8000, 1.6000],\n",
       "        [5.0000, 2.0000, 3.5000, 1.0000],\n",
       "        [4.7000, 3.2000, 1.3000, 0.2000],\n",
       "        [5.6000, 3.0000, 4.5000, 1.5000],\n",
       "        [5.5000, 2.4000, 3.7000, 1.0000],\n",
       "        [5.0000, 3.4000, 1.6000, 0.4000],\n",
       "        [5.0000, 2.3000, 3.3000, 1.0000],\n",
       "        [6.0000, 2.2000, 5.0000, 1.5000],\n",
       "        [6.0000, 3.0000, 4.8000, 1.8000],\n",
       "        [7.3000, 2.9000, 6.3000, 1.8000],\n",
       "        [5.1000, 3.7000, 1.5000, 0.4000],\n",
       "        [5.1000, 3.5000, 1.4000, 0.2000],\n",
       "        [7.9000, 3.8000, 6.4000, 2.0000],\n",
       "        [4.9000, 2.5000, 4.5000, 1.7000]])"
      ]
     },
     "execution_count": 8,
     "metadata": {},
     "output_type": "execute_result"
    }
   ],
   "source": [
    "x_train"
   ]
  },
  {
   "cell_type": "code",
   "execution_count": 9,
   "metadata": {},
   "outputs": [
    {
     "name": "stdout",
     "output_type": "stream",
     "text": [
      "torch.Size([105, 4])\n"
     ]
    }
   ],
   "source": [
    "# 学習データの説明変数\n",
    "print(x_train.shape)"
   ]
  },
  {
   "cell_type": "code",
   "execution_count": 10,
   "metadata": {},
   "outputs": [
    {
     "name": "stdout",
     "output_type": "stream",
     "text": [
      "torch.Size([105])\n"
     ]
    }
   ],
   "source": [
    "# 学習データの目的変数\n",
    "print(y_train.shape)"
   ]
  },
  {
   "cell_type": "code",
   "execution_count": 11,
   "metadata": {},
   "outputs": [],
   "source": [
    "\"\"\"(2)モデルクラスの登録\"\"\"\n",
    "# nnクラスの関数(初期設定)を下記に記述\n",
    "class IrisModel(nn.Module):\n",
    "\n",
    "    def __init__(self):\n",
    "        super(IrisModel, self).__init__()\n",
    "\n",
    "        # モジュールリストの中にモデル情報を記述\n",
    "        self.model_info = nn.ModuleList([\n",
    "            nn.Linear(4,6), # (1)入力層:今回入力は4次元として設定・出力は6次元と任意に設定\n",
    "            nn.Sigmoid(),   # (2)活性化関数(シグモイド)\n",
    "            nn.Linear(6,3), # (3)出力層:出力層のユニットは出力値分\n",
    "        ])\n",
    "        \n",
    "    # 純方向伝播の計算を記述\n",
    "    def forward(self, x):\n",
    "        for i in range(len(self.model_info)):\n",
    "            x = self.model_info[i](x)\n",
    "        return x"
   ]
  },
  {
   "cell_type": "code",
   "execution_count": 12,
   "metadata": {},
   "outputs": [],
   "source": [
    "\"\"\"(3)モデルとパラメータ探索アルゴリズムの設定\"\"\"\n",
    "model = IrisModel().to(device) # モデル\n",
    "optimizer = optim.SGD(model.parameters(),lr=0.05) # パラメータ探索アルゴリズム(確率的勾配降下法 + 額収率lr=0.05を適用)\n",
    "criterion = nn.CrossEntropyLoss() # 損失関数"
   ]
  },
  {
   "cell_type": "code",
   "execution_count": 13,
   "metadata": {},
   "outputs": [],
   "source": [
    "\"\"\"代表的な損失関数には下記のようなものがある\"\"\"\n",
    "# 二値分類 | バイナリ交差エントロピー損失\n",
    "criterion = nn.BCELoss\n",
    "\n",
    "# 二値分類 | ロジット付きバイナリ交差エントロピー損失\n",
    "criterion = nn.BCELoss\n",
    "\n",
    "# 多クラス分類 | Softmax交差エントロピー損失\n",
    "criterion = nn.CrossEntropyLoss()\n",
    "\n",
    "# 回帰 | 平均二乗誤差\n",
    "criterion = nn.MSELoss\n",
    "\n",
    "# 回帰 | 平均絶対値誤差\n",
    "criterion = nn.L1Loss"
   ]
  },
  {
   "cell_type": "code",
   "execution_count": 14,
   "metadata": {},
   "outputs": [],
   "source": [
    "criterion = nn.CrossEntropyLoss()"
   ]
  },
  {
   "cell_type": "code",
   "execution_count": 15,
   "metadata": {},
   "outputs": [
    {
     "data": {
      "text/plain": [
       "<All keys matched successfully>"
      ]
     },
     "execution_count": 15,
     "metadata": {},
     "output_type": "execute_result"
    }
   ],
   "source": [
    "\"\"\"(4)モデル学習 バッチ学習を適用\"\"\"\n",
    "# 学習回数\n",
    "repeat = 1500\n",
    "\n",
    "for epoch in range(repeat):\n",
    "    ex_var = x_train # 説明変数を作成\n",
    "    target = y_train # 目的変数を作成\n",
    "\n",
    "    # モデルのforward関数を用いた順伝播の予測(モデルの出力地算出)\n",
    "    output = model(ex_var)\n",
    "    \n",
    "    # 上記出力値(output)と教師データ(target)を損失関数に渡し，損失関数を計算\n",
    "    loss = criterion(output, target)\n",
    "\n",
    "    # 勾配を初期化\n",
    "    optimizer.zero_grad()\n",
    "\n",
    "    # 損失関数の値から勾配を求め，誤差逆伝播による学習実行\n",
    "    loss.backward()\n",
    "\n",
    "    # 学習結果に基づきパラメータを更新\n",
    "    optimizer.step()"
   ]
  },
  {
   "cell_type": "code",
   "execution_count": 16,
   "metadata": {},
   "outputs": [
    {
     "data": {
      "text/plain": [
       "<All keys matched successfully>"
      ]
     },
     "execution_count": 16,
     "metadata": {},
     "output_type": "execute_result"
    }
   ],
   "source": [
    "\"\"\"(5)モデルの結果を出力\"\"\"\n",
    "torch.save(model.state_dict(),\"sample.model\") # モデル保存する場合\n",
    "model.load_state_dict(torch.load(\"sample.model\")) # モデルを呼び出す場合"
   ]
  },
  {
   "cell_type": "code",
   "execution_count": 17,
   "metadata": {},
   "outputs": [
    {
     "name": "stdout",
     "output_type": "stream",
     "text": [
      "0.956\n"
     ]
    }
   ],
   "source": [
    "\"\"\"(6)モデルの性能評価\"\"\"\n",
    "\n",
    "# 学習したモデルの評価\n",
    "model.eval()\n",
    "with torch.no_grad():\n",
    "    pred_model = model(x_test) # テストデータモデル推論\n",
    "    pred_result = torch.argmax(pred_model,1) # 予測値\n",
    "\n",
    "    # 正解率\n",
    "    print(round(((y_test == pred_result).sum()/len(pred_result)).item(),3))"
   ]
  },
  {
   "cell_type": "code",
   "execution_count": 18,
   "metadata": {},
   "outputs": [],
   "source": [
    "\"\"\"(4)モデル学習\"\"\"\n",
    "data_size = len(x_train) # データのサイズ\n",
    "mini_batch = int(data_size * 3/4) # ミニバッチサイズ(全データの3/4を学習に利用)\n",
    "repeat = 1500 # エポック数\n",
    "\n",
    "for epoch in range(repeat):\n",
    "\n",
    "    # per,utation = 渡した引数の数値をシャッフル\n",
    "    dx = np.random.permutation(data_size)\n",
    "\n",
    "    for num in range(0,data_size,mini_batch):\n",
    "\n",
    "        # 説明変数(ミニバッチサイズ)\n",
    "        ex_var = x_train[dx[num:(num + mini_batch) if (num + mini_batch) < data_size else data_size]]\n",
    "\n",
    "        # 目的変数(ミニバッチサイズ)\n",
    "        target = y_train[dx[num:(num + mini_batch) if (num + mini_batch) < data_size else data_size]]\n",
    "\n",
    "        # モデルのforward関数を用いた準伝播の予測→出力値算出\n",
    "        output = model(ex_var)\n",
    "\n",
    "        # 上記出力値(output)と教師データ(target)を損失関数に渡し，損失関数を計算\n",
    "        loss = criterion(output, target)\n",
    "\n",
    "        # 勾配を初期化\n",
    "        optimizer.zero_grad()\n",
    "\n",
    "        #  損失関数の値から勾配を求めた誤差逆伝播による学習実行\n",
    "        loss.backward()\n",
    "\n",
    "        # 学習結果に基づきパラメータを更新\n",
    "        optimizer.step()"
   ]
  },
  {
   "cell_type": "code",
   "execution_count": 19,
   "metadata": {},
   "outputs": [
    {
     "data": {
      "text/plain": [
       "<All keys matched successfully>"
      ]
     },
     "execution_count": 19,
     "metadata": {},
     "output_type": "execute_result"
    }
   ],
   "source": [
    "\"\"\"(5)モデルの結果を出力\"\"\"\n",
    "torch.save(model.state_dict(),\"sample.model\") # モデル保存する場合\n",
    "model.load_state_dict(torch.load(\"sample.model\")) # モデルを呼び出す場合"
   ]
  },
  {
   "cell_type": "code",
   "execution_count": 20,
   "metadata": {},
   "outputs": [
    {
     "name": "stdout",
     "output_type": "stream",
     "text": [
      "0.956\n"
     ]
    }
   ],
   "source": [
    "\"\"\"(6)モデルの性能評価\"\"\"\n",
    "\n",
    "# 学習したモデルの評価\n",
    "model.eval()\n",
    "with torch.no_grad():\n",
    "    pred_model = model(x_test) # テストデータモデル推論\n",
    "    pred_result = torch.argmax(pred_model,1) # 予測値\n",
    "\n",
    "    # 正解率\n",
    "    print(round(((y_test == pred_result).sum()/len(pred_result)).item(),3))"
   ]
  },
  {
   "cell_type": "code",
   "execution_count": 21,
   "metadata": {},
   "outputs": [
    {
     "name": "stdout",
     "output_type": "stream",
     "text": [
      "正解率: 0.956[%]\n"
     ]
    }
   ],
   "source": [
    "\"\"\" ライブラリ読込 \"\"\"\n",
    "import torch\n",
    "import torch.nn as nn\n",
    "import torch.optim as optim\n",
    "import torch.nn.functional as F\n",
    "import numpy as np\n",
    "from sklearn import datasets\n",
    "from sklearn.model_selection import train_test_split\n",
    "\n",
    "\n",
    "\"\"\" GPU設定 \"\"\"\n",
    "device = torch.device(\"cuda:0\" if torch.cuda.is_available() else \"cpu\")\n",
    "\n",
    "\n",
    "\"\"\" (1) データの準備 \"\"\"\n",
    "# データロード\n",
    "iris = datasets.load_iris()\n",
    "# 説明変数 \"Sepal Length\", \"Sepal Width\", \"Petal Length\", \"Petal Width\"\n",
    "X = iris.data.astype(np.float32)\n",
    "# 目的変数 \"Species\"\n",
    "Y = iris.target.astype(np.int64)\n",
    "# 学習データ＆テストデータ分割\n",
    "X_train, X_test,  Y_train, Y_test = train_test_split(X,Y,test_size=0.3, random_state=3)\n",
    "# テンソル化\n",
    "X_train, X_test, Y_train, Y_test = torch.from_numpy(X_train).to(device), torch.from_numpy(X_test).to(device), torch.from_numpy(Y_train).to(device), torch.from_numpy(Y_test).to(device)\n",
    "\n",
    "\n",
    "\"\"\" (2)モデル情報を記述 \"\"\"\n",
    "# nnクラスの関数(初期設定)を下記に記述\n",
    "class IrisModel(nn.Module):\n",
    "    \n",
    "    # ユニット・層の数・活性化関数等ニューラルネットワークの模型となるものを下記に記述\n",
    "    def __init__(self):\n",
    "        super(IrisModel, self).__init__()\n",
    "        self.model_info = nn.ModuleList([\n",
    "             nn.Linear(4,6),   # 入力層\n",
    "             nn.Sigmoid(),     # 活性化関数(シグモイド)\n",
    "             nn.Linear(6,3),   # 出力層\n",
    "            ])\n",
    "    \n",
    "    # 順方向の計算処理の流れを下記に記述\n",
    "    def forward(self,x):\n",
    "        for i in range(len(self.model_info)):\n",
    "            x = self.model_info[i](x)\n",
    "        return x\n",
    "\n",
    "\n",
    "\"\"\" (3)モデルとパラメータ探索アルゴリズムの設定 \"\"\"\n",
    "model     = IrisModel().to(device)                # モデル\n",
    "optimizer = optim.SGD(model.parameters(),lr=0.05) # パラメータ探索アルゴリズム\n",
    "criterion = nn.CrossEntropyLoss()                 # 損失関数\n",
    "\n",
    "\n",
    "\"\"\" (4) モデル学習 \"\"\"\n",
    "data_size  = len(X_train)           # データのサイズ\n",
    "mini_batch = int(data_size * 3/4)   # ミニバッチサイズ\n",
    "repeat = 1500                       # エポック数\n",
    "\n",
    "for epoch in range(repeat):\n",
    "    \n",
    "    # permutation(渡した引数の数値をシャッフル)\n",
    "    dx = np.random.permutation(data_size)\n",
    "    \n",
    "    for num in range(0,data_size,mini_batch):\n",
    "        # 説明変数(ミニバッチサイズ)\n",
    "        ex_var = X_train[dx[num:(num + mini_batch) if (num + mini_batch) < data_size else data_size]]\n",
    "        # 目的変数(ミニバッチサイズ)\n",
    "        target = Y_train[dx[num:(num + mini_batch) if (num + mini_batch) < data_size else data_size]] \n",
    "        # モデルのforward関数を用いた準伝播の予測→出力値算出\n",
    "        output = model(ex_var)  \n",
    "        # 上記出力値(output)と教師データ(target)を損失関数に渡し、損失関数を計算\n",
    "        loss = criterion(output, target)\n",
    "        # 勾配を初期化\n",
    "        optimizer.zero_grad()\n",
    "        # 損失関数の値から勾配を求め誤差逆伝播による学習実行\n",
    "        loss.backward()\n",
    "        # 学習結果に基づきパラメータを更新\n",
    "        optimizer.step()\n",
    "\n",
    "\n",
    "\"\"\" (5)モデルの結果を出力 \"\"\"\n",
    "# torch.save(model.state_dict(), \"iris.model\")    # モデル保存する場合\n",
    "# model.load_state_dict(torch.load(\"iris.model\")) # モデルを呼び出す場合\n",
    "\n",
    "\n",
    "\"\"\" (6) モデルの性能評価 \"\"\"\n",
    "model.eval()\n",
    "with torch.no_grad():\n",
    "    pred_model  = model(X_test)\n",
    "    pred_result = torch.argmax(pred_model,1) #予測値\n",
    "    print(\"正解率: \" + str(round(((Y_test == pred_result).sum()/len(pred_result)).item(),3))+\"[%]\")"
   ]
  },
  {
   "cell_type": "code",
   "execution_count": null,
   "metadata": {},
   "outputs": [],
   "source": []
  }
 ],
 "metadata": {
  "kernelspec": {
   "display_name": "Python 3.8.8 ('base')",
   "language": "python",
   "name": "python3"
  },
  "language_info": {
   "codemirror_mode": {
    "name": "ipython",
    "version": 3
   },
   "file_extension": ".py",
   "mimetype": "text/x-python",
   "name": "python",
   "nbconvert_exporter": "python",
   "pygments_lexer": "ipython3",
   "version": "3.8.8"
  },
  "orig_nbformat": 4,
  "vscode": {
   "interpreter": {
    "hash": "7a6480a13b1e699c6b63fd45197435c7fb21c4c4a474835e0197e4612e4c58ce"
   }
  }
 },
 "nbformat": 4,
 "nbformat_minor": 2
}
